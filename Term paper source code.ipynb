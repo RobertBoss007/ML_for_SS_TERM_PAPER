{
 "cells": [
  {
   "cell_type": "markdown",
   "id": "18e1522f",
   "metadata": {},
   "source": [
    "# Term Paper \n",
    "## Decision tree for asset price prediction"
   ]
  },
  {
   "cell_type": "code",
   "execution_count": 54,
   "id": "2444e9a8",
   "metadata": {},
   "outputs": [],
   "source": [
    "import pandas as pd"
   ]
  },
  {
   "cell_type": "markdown",
   "id": "cd1d27ec",
   "metadata": {},
   "source": [
    "I utilize the dataset available online, https://www.kaggle.com/datasets/imranbukhari/comprehensive-btcusd-1m-data?select=BTCUSD_1m_Coinbase.csv, which represents the standard 'Open', 'Close', 'Low', 'High', 'Volume', 'Time' data for trading pair BTCUSD on 1 minute timeframe."
   ]
  },
  {
   "cell_type": "code",
   "execution_count": 55,
   "id": "59014009",
   "metadata": {},
   "outputs": [],
   "source": [
    "df = pd.read_csv(\"BTCUSD_1m_Coinbase.csv\")\n",
    "\n",
    "# Make sure 'Open time' is in datetime format\n",
    "df['Open time'] = pd.to_datetime(df['Open time'])\n",
    "\n",
    "# Set 'Open time' as index\n",
    "df.set_index('Open time', inplace=True)\n",
    "\n",
    "# Resample and aggregate\n",
    "df = df.resample('60T').agg({\n",
    "    'Open': 'first',\n",
    "    'High': 'max',\n",
    "    'Low': 'min',\n",
    "    'Close': 'last',\n",
    "    'Volume': 'sum'\n",
    "}).dropna()\n"
   ]
  },
  {
   "cell_type": "markdown",
   "id": "13eb2f9d",
   "metadata": {},
   "source": [
    "## The Elder Impulse System"
   ]
  },
  {
   "cell_type": "markdown",
   "id": "a707ac38",
   "metadata": {},
   "source": [
    "The Elder Impulse System was designed by Alexander Elder and featured in his book Come Into My Trading Room. According to Elder, “the system identifies inflection points where a trend speeds up or slows down.” The Impulse System is based on two indicators: a 13-day exponential moving average and the MACD-Histogram. The moving average identifies the trend, while the MACD-Histogram measures momentum. As a result, the Impulse System combines trend following and momentum to identify tradable impulses. This unique indicator combination is color coded into the price bars for easy reference.\n",
    "\n",
    "Green Price Bar: (13-period EMA > previous 13-period EMA) and \n",
    "                 (MACD-Histogram > previous period's MACD-Histogram)\n",
    "\n",
    "Red Price Bar: (13-period EMA < previous 13-period EMA) and \n",
    "               (MACD-Histogram < previous period's MACD-Histogram)\n",
    "\n",
    "Price bars are colored blue when conditions for a Red Price Bar or \n",
    "Green Price Bar is not met. The MACD-Histogram is based on MACD(12,26,9). \n",
    "\n",
    "Green price bars show that the bulls are in control of trend and momentum as both the 13-day EMA and MACD-Histogram are rising. A red price bar indicates that the bears have taken control because the 13-day EMA and MACD-Histogram are falling. A blue price bar indicates mixed technical signals— neither buying nor selling pressure predominating."
   ]
  },
  {
   "cell_type": "code",
   "execution_count": 56,
   "id": "626ba477",
   "metadata": {},
   "outputs": [],
   "source": [
    "# Step 1: Calculate indicators on Close\n",
    "df['EMA_13'] = df['Close'].ewm(span=13, adjust=False).mean()\n",
    "df['EMA_52'] = df['Close'].ewm(span=52, adjust=False).mean()\n",
    "ema_12 = df['Close'].ewm(span=12, adjust=False).mean()\n",
    "ema_26 = df['Close'].ewm(span=26, adjust=False).mean()\n",
    "df['MACD_Line'] = ema_12 - ema_26\n",
    "df['Signal_Line'] = df['MACD_Line'].ewm(span=9, adjust=False).mean()\n",
    "df['MACD_Hist'] = df['MACD_Line'] - df['Signal_Line']\n",
    "\n",
    "# Step 2: Shift indicators to make them realistically usable at current bar\n",
    "df['EMA_52_signal'] = df['EMA_52'].shift(1)\n",
    "df['EMA_13_signal'] = df['EMA_13'].shift(1)\n",
    "df['EMA_13_prev'] = df['EMA_13'].shift(2)\n",
    "df['MACD_Hist_signal'] = df['MACD_Hist'].shift(1)\n",
    "df['MACD_Hist_prev'] = df['MACD_Hist'].shift(2)\n",
    "\n",
    "# Step 3: Apply bar coloring logic based only on available info\n",
    "def color_bar(row):\n",
    "    if pd.isna(row['EMA_13_signal']) or pd.isna(row['EMA_13_prev']):\n",
    "        return None  # Skip early rows\n",
    "    if row['EMA_13_signal'] > row['EMA_13_prev'] and row['MACD_Hist_signal'] > row['MACD_Hist_prev']:\n",
    "        return 'Green'\n",
    "    elif row['EMA_13_signal'] < row['EMA_13_prev'] and row['MACD_Hist_signal'] < row['MACD_Hist_prev']:\n",
    "        return 'Red'\n",
    "    else:\n",
    "        return 'Blue'\n",
    "\n",
    "df['Bar_Color'] = df.apply(color_bar, axis=1)\n",
    "\n",
    "# Calculate daily range\n",
    "df['Range'] = df['High'] - df['Low']\n",
    "\n",
    "# ADR over last 10 bars, shifted to make it usable at the start of current bar\n",
    "df['ADR_10'] = df['Range'].rolling(window=10).mean().shift(1)\n",
    "\n"
   ]
  },
  {
   "cell_type": "code",
   "execution_count": 57,
   "id": "d54eec8f",
   "metadata": {},
   "outputs": [],
   "source": [
    "# Rolling window size\n",
    "window = 100\n",
    "\n",
    "# Calculate rolling percentiles and median, shifted by 1 period\n",
    "df['Upper 95'] = df['Close'].rolling(window).quantile(0.95).shift(1)\n",
    "df['Lower 5'] = df['Close'].rolling(window).quantile(0.05).shift(1)\n",
    "df['Median']   = df['Close'].rolling(window).median().shift(1)\n"
   ]
  },
  {
   "cell_type": "code",
   "execution_count": 58,
   "id": "a460d04b",
   "metadata": {},
   "outputs": [
    {
     "data": {
      "text/plain": [
       "'temp-plot.html'"
      ]
     },
     "execution_count": 58,
     "metadata": {},
     "output_type": "execute_result"
    }
   ],
   "source": [
    "import pandas as pd\n",
    "import plotly\n",
    "import plotly.graph_objects as go\n",
    "from plotly.subplots import make_subplots\n",
    "\n",
    "df = df.tail(3000)\n",
    "\n",
    "# Create subplots: 3 rows (Price + Indicators / MACD / Volume)\n",
    "fig = make_subplots(\n",
    "    rows=3, cols=1,\n",
    "    shared_xaxes=True,\n",
    "    row_heights=[0.6, 0.2, 0.2],\n",
    "    vertical_spacing=0.03,\n",
    "    subplot_titles=('Price & Signals', 'MACD Histogram', 'Volume')\n",
    ")\n",
    "\n",
    "# Candles with color\n",
    "for color, name in [('Green', 'green'), ('Red', 'red'), ('Blue', 'blue')]:\n",
    "    subset = df[df['Bar_Color'] == color]\n",
    "    fig.add_trace(go.Candlestick(\n",
    "        x=subset.index,\n",
    "        open=subset['Open'],\n",
    "        high=subset['High'],\n",
    "        low=subset['Low'],\n",
    "        close=subset['Close'],\n",
    "        increasing_line_color=name,\n",
    "        decreasing_line_color=name,\n",
    "        showlegend=False\n",
    "    ), row=1, col=1)\n",
    "\n",
    "# Add EMA and Rolling Window overlays\n",
    "fig.add_trace(go.Scatter(\n",
    "    x=df.index, y=df['EMA_13'],\n",
    "    line=dict(color='orange', width=1),\n",
    "    name='EMA 13'\n",
    "), row=1, col=1)\n",
    "\n",
    "fig.add_trace(go.Scatter(\n",
    "    x=df.index, y=df['EMA_52'],\n",
    "    line=dict(color='purple', width=1),\n",
    "    name='EMA 52'\n",
    "), row=1, col=1)\n",
    "\n",
    "fig.add_trace(go.Scatter(\n",
    "    x=df.index, y=df['Upper 95'],\n",
    "    line=dict(color='white', width=1, dash='dot'),\n",
    "    name='Upper 95%'\n",
    "), row=1, col=1)\n",
    "\n",
    "fig.add_trace(go.Scatter(\n",
    "    x=df.index, y=df['Lower 5'],\n",
    "    line=dict(color='white', width=1, dash='dot'),\n",
    "    name='Lower 5%'\n",
    "), row=1, col=1)\n",
    "\n",
    "fig.add_trace(go.Scatter(\n",
    "    x=df.index, y=df['Median'],\n",
    "    line=dict(color='cyan', width=1, dash='dash'),\n",
    "    name='Median'\n",
    "), row=1, col=1)\n",
    "\n",
    "# MACD Histogram\n",
    "fig.add_trace(go.Bar(\n",
    "    x=df.index,\n",
    "    y=df['MACD_Hist'],\n",
    "    marker_color=df['MACD_Hist'].apply(lambda x: 'green' if x >= 0 else 'red'),\n",
    "    name='MACD Histogram'\n",
    "), row=2, col=1)\n",
    "\n",
    "# Volume\n",
    "fig.add_trace(go.Bar(\n",
    "    x=df.index,\n",
    "    y=df['Volume'],\n",
    "    marker_color='lightgray',\n",
    "    name='Volume'\n",
    "), row=3, col=1)\n",
    "\n",
    "# Final layout tweaks\n",
    "fig.update_layout(\n",
    "    title='Trading Dashboard with Custom Coloring and Indicators',\n",
    "    template='plotly_dark',\n",
    "    xaxis_rangeslider_visible=False,\n",
    "    height=900,\n",
    "    legend=dict(orientation='h', yanchor='bottom', y=1.02, xanchor='right', x=1)\n",
    ")\n",
    "\n",
    "# Export to HTML\n",
    "plotly.offline.plot(fig, \"CandleDashboard.html\")\n"
   ]
  },
  {
   "cell_type": "code",
   "execution_count": 30,
   "id": "4fdacbee",
   "metadata": {},
   "outputs": [
    {
     "data": {
      "text/plain": [
       "'CandleStick.html'"
      ]
     },
     "execution_count": 30,
     "metadata": {},
     "output_type": "execute_result"
    }
   ],
   "source": [
    "# Limit to last 1000 rows\n",
    "df_last = df.tail(1000)\n",
    "\n",
    "fig = go.Figure(go.Candlestick(\n",
    "    x=df_last.index,\n",
    "    open=df_last['Open'],\n",
    "    high=df_last['High'],\n",
    "    low=df_last['Low'],\n",
    "    close=df_last['Close']\n",
    "))\n",
    "\n",
    "fig.update_layout(\n",
    "    xaxis_title='Time',\n",
    "    yaxis_title='Price',\n",
    "    xaxis_rangeslider_visible=False\n",
    ")\n",
    "\n",
    "\n",
    "plotly.offline.plot(fig, filename=\"CandleStick.html\")\n"
   ]
  },
  {
   "cell_type": "code",
   "execution_count": 61,
   "id": "ffe0370b",
   "metadata": {},
   "outputs": [],
   "source": [
    "RISK_REWARD_RATIO = 3\n",
    "STOP_LOSS_ATR_MULTIPLIER = 1\n",
    "\n",
    "# SL and TP levels\n",
    "df['StopLoss'] = df['ADR_10'] * STOP_LOSS_ATR_MULTIPLIER\n",
    "df['TakeProfit'] = df['StopLoss'] * RISK_REWARD_RATIO\n",
    "\n",
    "df['SL_Long'] = df['Open'] - df['StopLoss']\n",
    "df['TP_Long'] = df['Open'] + df['TakeProfit']\n",
    "df['SL_Short'] = df['Open'] + df['StopLoss']\n",
    "df['TP_Short'] = df['Open'] - df['TakeProfit'] \n",
    "\n",
    "def simulate_trade_classification(df):\n",
    "    trade_signals = ['None'] * len(df)\n",
    "\n",
    "    i = 0\n",
    "    while i < len(df):\n",
    "        row = df.iloc[i]\n",
    "\n",
    "        if pd.isna(row['SL_Long']) or pd.isna(row['TP_Long']):\n",
    "            i += 1\n",
    "            continue\n",
    "\n",
    "        # Simulate Long\n",
    "        for j in range(i + 1, len(df)):\n",
    "            future = df.iloc[j]\n",
    "            if future['Low'] <= row['SL_Long']:\n",
    "                break\n",
    "            elif future['High'] >= row['TP_Long']:\n",
    "                trade_signals[i] = 'Long'\n",
    "                break\n",
    "\n",
    "        # Simulate Short\n",
    "        for j in range(i + 1, len(df)):\n",
    "            future = df.iloc[j]\n",
    "            if future['High'] >= row['SL_Short']:\n",
    "                break\n",
    "            elif future['Low'] <= row['TP_Short']:\n",
    "                trade_signals[i] = 'Short'\n",
    "                break\n",
    "\n",
    "        i += 1\n",
    "\n",
    "    df['Trade_Signal'] = trade_signals\n",
    "    return df\n",
    "\n",
    "df = simulate_trade_classification(df)\n"
   ]
  },
  {
   "cell_type": "code",
   "execution_count": 53,
   "id": "fba40a1c",
   "metadata": {},
   "outputs": [],
   "source": [
    "%reset -f"
   ]
  }
 ],
 "metadata": {
  "kernelspec": {
   "display_name": "localpyenv",
   "language": "python",
   "name": "python3"
  },
  "language_info": {
   "codemirror_mode": {
    "name": "ipython",
    "version": 3
   },
   "file_extension": ".py",
   "mimetype": "text/x-python",
   "name": "python",
   "nbconvert_exporter": "python",
   "pygments_lexer": "ipython3",
   "version": "3.9.18"
  }
 },
 "nbformat": 4,
 "nbformat_minor": 5
}
